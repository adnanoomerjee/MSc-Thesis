{
 "cells": [
  {
   "cell_type": "code",
   "execution_count": 4,
   "metadata": {},
   "outputs": [
    {
     "ename": "ModuleNotFoundError",
     "evalue": "No module named 'assets'",
     "output_type": "error",
     "traceback": [
      "\u001b[0;31m---------------------------------------------------------------------------\u001b[0m",
      "\u001b[0;31mModuleNotFoundError\u001b[0m                       Traceback (most recent call last)",
      "Cell \u001b[0;32mIn[4], line 1\u001b[0m\n\u001b[0;32m----> 1\u001b[0m \u001b[39mfrom\u001b[39;00m \u001b[39mppo_model\u001b[39;00m\u001b[39m.\u001b[39;00m\u001b[39menvs\u001b[39;00m\u001b[39m.\u001b[39;00m\u001b[39mlow_level_env\u001b[39;00m \u001b[39mimport\u001b[39;00m LowLevelEnv\n\u001b[1;32m      3\u001b[0m \u001b[39mimport\u001b[39;00m \u001b[39mfunctools\u001b[39;00m\n\u001b[1;32m      4\u001b[0m \u001b[39mimport\u001b[39;00m \u001b[39mjax\u001b[39;00m\n",
      "File \u001b[0;32m~/MSc-Thesis/ppo_model/envs/low_level_env.py:262\u001b[0m\n\u001b[1;32m    259\u001b[0m   \u001b[39mdef\u001b[39;00m \u001b[39m_sample_goal\u001b[39m(\u001b[39mself\u001b[39m, rng: jp\u001b[39m.\u001b[39mndarray):\n\u001b[1;32m    260\u001b[0m     \u001b[39mreturn\u001b[39;00m \u001b[39mNone\u001b[39;00m\n\u001b[0;32m--> 262\u001b[0m test \u001b[39m=\u001b[39m LowLevelEnv()\n",
      "File \u001b[0;32m~/MSc-Thesis/ppo_model/envs/low_level_env.py:150\u001b[0m, in \u001b[0;36mLowLevelEnv.__init__\u001b[0;34m(self, env_name, ctrl_cost_weight, use_contact_forces, contact_cost_weight, healthy_reward, terminate_when_unhealthy, healthy_z_range, contact_force_range, reset_noise_scale, exclude_current_positions_from_observation, backend, **kwargs)\u001b[0m\n\u001b[1;32m    134\u001b[0m \u001b[39mdef\u001b[39;00m \u001b[39m__init__\u001b[39m(\n\u001b[1;32m    135\u001b[0m     \u001b[39mself\u001b[39m,\n\u001b[1;32m    136\u001b[0m     env_name: \u001b[39mstr\u001b[39m \u001b[39m=\u001b[39m \u001b[39m'\u001b[39m\u001b[39mant\u001b[39m\u001b[39m'\u001b[39m,\n\u001b[0;32m   (...)\u001b[0m\n\u001b[1;32m    147\u001b[0m     \u001b[39m*\u001b[39m\u001b[39m*\u001b[39mkwargs,\n\u001b[1;32m    148\u001b[0m ):\n\u001b[0;32m--> 150\u001b[0m   path \u001b[39m=\u001b[39m epath\u001b[39m.\u001b[39;49mresource_path(\u001b[39m'\u001b[39;49m\u001b[39massets\u001b[39;49m\u001b[39m'\u001b[39;49m) \u001b[39m/\u001b[39m \u001b[39mf\u001b[39m\u001b[39m'\u001b[39m\u001b[39m{\u001b[39;00menv_name\u001b[39m}\u001b[39;00m\u001b[39m.xml\u001b[39m\u001b[39m'\u001b[39m\n\u001b[1;32m    151\u001b[0m   sys \u001b[39m=\u001b[39m mjcf\u001b[39m.\u001b[39mload(path)\n\u001b[1;32m    153\u001b[0m   n_frames \u001b[39m=\u001b[39m \u001b[39m5\u001b[39m\n",
      "File \u001b[0;32m~/mambaforge/envs/msc-thesis-hpc/lib/python3.11/site-packages/etils/epath/resource_utils.py:113\u001b[0m, in \u001b[0;36mresource_path\u001b[0;34m(package)\u001b[0m\n\u001b[1;32m     86\u001b[0m \u001b[39m\u001b[39m\u001b[39m\"\"\"Returns read-only root directory path of the module.\u001b[39;00m\n\u001b[1;32m     87\u001b[0m \n\u001b[1;32m     88\u001b[0m \u001b[39mUsed to access module resource files.\u001b[39;00m\n\u001b[0;32m   (...)\u001b[0m\n\u001b[1;32m    110\u001b[0m \u001b[39m  The read-only path to the root module directory\u001b[39;00m\n\u001b[1;32m    111\u001b[0m \u001b[39m\"\"\"\u001b[39;00m\n\u001b[1;32m    112\u001b[0m \u001b[39mtry\u001b[39;00m:\n\u001b[0;32m--> 113\u001b[0m   path \u001b[39m=\u001b[39m importlib_resources\u001b[39m.\u001b[39;49mfiles(package)  \u001b[39m# pytype: disable=module-attr\u001b[39;00m\n\u001b[1;32m    114\u001b[0m \u001b[39mexcept\u001b[39;00m \u001b[39mAttributeError\u001b[39;00m \u001b[39mas\u001b[39;00m e:\n\u001b[1;32m    115\u001b[0m   \u001b[39m# TODO(b/260333695): Adhoc import fail with adhoc imports\u001b[39;00m\n\u001b[1;32m    116\u001b[0m   \u001b[39m# Currently, hack around to add support for it\u001b[39;00m\n\u001b[1;32m    117\u001b[0m   \u001b[39m# Note this is not the true path (`/google_src/` vs\u001b[39;00m\n\u001b[1;32m    118\u001b[0m   \u001b[39m# `/export/.../server/ml_notebook.runfiles`), but should be equivalent.\u001b[39;00m\n\u001b[1;32m    119\u001b[0m   \u001b[39mif\u001b[39;00m \u001b[39m'\u001b[39m\u001b[39msubmodule_search_locations\u001b[39m\u001b[39m'\u001b[39m \u001b[39mnot\u001b[39;00m \u001b[39min\u001b[39;00m \u001b[39mstr\u001b[39m(e):\n",
      "File \u001b[0;32m~/mambaforge/envs/msc-thesis-hpc/lib/python3.11/site-packages/importlib_resources/_common.py:46\u001b[0m, in \u001b[0;36mpackage_to_anchor.<locals>.wrapper\u001b[0;34m(anchor, package)\u001b[0m\n\u001b[1;32m     44\u001b[0m \u001b[39melif\u001b[39;00m anchor \u001b[39mis\u001b[39;00m undefined:\n\u001b[1;32m     45\u001b[0m     \u001b[39mreturn\u001b[39;00m func()\n\u001b[0;32m---> 46\u001b[0m \u001b[39mreturn\u001b[39;00m func(anchor)\n",
      "File \u001b[0;32m~/mambaforge/envs/msc-thesis-hpc/lib/python3.11/site-packages/importlib_resources/_common.py:56\u001b[0m, in \u001b[0;36mfiles\u001b[0;34m(anchor)\u001b[0m\n\u001b[1;32m     51\u001b[0m \u001b[39m@package_to_anchor\u001b[39m\n\u001b[1;32m     52\u001b[0m \u001b[39mdef\u001b[39;00m \u001b[39mfiles\u001b[39m(anchor: Optional[Anchor] \u001b[39m=\u001b[39m \u001b[39mNone\u001b[39;00m) \u001b[39m-\u001b[39m\u001b[39m>\u001b[39m Traversable:\n\u001b[1;32m     53\u001b[0m \u001b[39m    \u001b[39m\u001b[39m\"\"\"\u001b[39;00m\n\u001b[1;32m     54\u001b[0m \u001b[39m    Get a Traversable resource for an anchor.\u001b[39;00m\n\u001b[1;32m     55\u001b[0m \u001b[39m    \"\"\"\u001b[39;00m\n\u001b[0;32m---> 56\u001b[0m     \u001b[39mreturn\u001b[39;00m from_package(resolve(anchor))\n",
      "File \u001b[0;32m~/mambaforge/envs/msc-thesis-hpc/lib/python3.11/functools.py:909\u001b[0m, in \u001b[0;36msingledispatch.<locals>.wrapper\u001b[0;34m(*args, **kw)\u001b[0m\n\u001b[1;32m    905\u001b[0m \u001b[39mif\u001b[39;00m \u001b[39mnot\u001b[39;00m args:\n\u001b[1;32m    906\u001b[0m     \u001b[39mraise\u001b[39;00m \u001b[39mTypeError\u001b[39;00m(\u001b[39mf\u001b[39m\u001b[39m'\u001b[39m\u001b[39m{\u001b[39;00mfuncname\u001b[39m}\u001b[39;00m\u001b[39m requires at least \u001b[39m\u001b[39m'\u001b[39m\n\u001b[1;32m    907\u001b[0m                     \u001b[39m'\u001b[39m\u001b[39m1 positional argument\u001b[39m\u001b[39m'\u001b[39m)\n\u001b[0;32m--> 909\u001b[0m \u001b[39mreturn\u001b[39;00m dispatch(args[\u001b[39m0\u001b[39;49m]\u001b[39m.\u001b[39;49m\u001b[39m__class__\u001b[39;49m)(\u001b[39m*\u001b[39;49margs, \u001b[39m*\u001b[39;49m\u001b[39m*\u001b[39;49mkw)\n",
      "File \u001b[0;32m~/mambaforge/envs/msc-thesis-hpc/lib/python3.11/site-packages/importlib_resources/_common.py:82\u001b[0m, in \u001b[0;36m_\u001b[0;34m(cand)\u001b[0m\n\u001b[1;32m     80\u001b[0m \u001b[39m@resolve\u001b[39m\u001b[39m.\u001b[39mregister\n\u001b[1;32m     81\u001b[0m \u001b[39mdef\u001b[39;00m \u001b[39m_\u001b[39m(cand: \u001b[39mstr\u001b[39m) \u001b[39m-\u001b[39m\u001b[39m>\u001b[39m types\u001b[39m.\u001b[39mModuleType:\n\u001b[0;32m---> 82\u001b[0m     \u001b[39mreturn\u001b[39;00m importlib\u001b[39m.\u001b[39;49mimport_module(cand)\n",
      "File \u001b[0;32m~/mambaforge/envs/msc-thesis-hpc/lib/python3.11/importlib/__init__.py:126\u001b[0m, in \u001b[0;36mimport_module\u001b[0;34m(name, package)\u001b[0m\n\u001b[1;32m    124\u001b[0m             \u001b[39mbreak\u001b[39;00m\n\u001b[1;32m    125\u001b[0m         level \u001b[39m+\u001b[39m\u001b[39m=\u001b[39m \u001b[39m1\u001b[39m\n\u001b[0;32m--> 126\u001b[0m \u001b[39mreturn\u001b[39;00m _bootstrap\u001b[39m.\u001b[39;49m_gcd_import(name[level:], package, level)\n",
      "\u001b[0;31mModuleNotFoundError\u001b[0m: No module named 'assets'"
     ]
    }
   ],
   "source": [
    "from hct.envs.low_level_env import LowLevelEnv\n",
    "\n",
    "import functools\n",
    "import jax\n",
    "import os\n",
    "\n",
    "from datetime import datetime\n",
    "from jax import numpy as jp\n",
    "import matplotlib.pyplot as plt\n",
    "\n",
    "from IPython.display import HTML, clear_output\n",
    "\n",
    "import brax\n",
    "\n",
    "import flax\n",
    "from brax import envs\n",
    "from brax.io import model\n",
    "from brax.io import json\n",
    "from brax.io import html\n",
    "from hct import train as ppo\n",
    "from brax.training.agents.sac import train as sac\n",
    "from absl import logging\n",
    "\n",
    "import getpass\n",
    "import socket\n",
    "env = LowLevelEnv()\n"
   ]
  },
  {
   "cell_type": "code",
   "execution_count": 4,
   "metadata": {},
   "outputs": [
    {
     "name": "stdout",
     "output_type": "stream",
     "text": [
      "<class 'jaxlib.xla_extension.ArrayImpl'>\n"
     ]
    }
   ],
   "source": [
    "rng = jax.random.PRNGKey(seed=1)\n",
    "jit_env_reset = jax.jit(env.reset)\n",
    "state = jit_env_reset(rng=rng)\n",
    "pipeline_state = state.pipeline_state\n",
    "print((type(pipeline_state.q)))\n"
   ]
  },
  {
   "cell_type": "code",
   "execution_count": 32,
   "metadata": {},
   "outputs": [
    {
     "name": "stdout",
     "output_type": "stream",
     "text": [
      "[[ 0  1  2  3  4  5  6  7  8  9 10 11 12 13 14]]\n",
      "[0 1 2 3 4 5 6]\n"
     ]
    }
   ],
   "source": [
    "\n",
    "pipeline_state = state.pipeline_state\n",
    "'''print(pipeline_state.q)\n",
    "print(pipeline_state.qd)\n",
    "print(pipeline_state.contact)'''\n",
    "\"\"\"\n",
    "print(env.sys.link_types)\n",
    "print(env.sys.link_names)\n",
    "print(env.sys.q_size())\n",
    "print(env.sys.qd_size())\n",
    "print(env.sys.dof.limit[0])\n",
    "print(env.sys.dof.limit[1])\n",
    "print(env.sys.link_parents)\"\"\"\n",
    "\n",
    "#print(env.sys.actuator.q_id)\n",
    "'''\n",
    "\n",
    "ja = 2'''\n",
    "ja = jp.zeros(env.sys.num_links())\n",
    "\n",
    "def ja_id(id):\n",
    "    if env.sys.link_types[id] == '1':\n",
    "        ja = \n",
    "\n",
    "q = pipeline_state.q\n",
    "q_idx = jp.indices([env.sys.q_size()])\n",
    "hinge_link_q_idx = env.sys.q_idx('1')\n",
    "non_hinge_link_q_idx = jp.delete(q_idx ,hinge_link_q_idx)\n",
    "\n",
    "def process_sequences(arr, bool_indices):\n",
    "    # Create a boolean mask of the same length as the array\n",
    "    mask = jp.zeros_like(arr, dtype=bool)\n",
    "    \n",
    "    # Set the mask to True at the given indices\n",
    "    mask = mask.at[bool_indices].set(True)\n",
    "    \n",
    "    # Apply the mask to the array, replacing True sequences with 0\n",
    "    output = jp.where(mask, 0, arr)\n",
    "    \n",
    "    # Remove the zeroed sequences (replaced True sequences) from the array\n",
    "    output = output[output != 0]\n",
    "    \n",
    "    return output\n",
    "print(q_idx)\n",
    "print(non_hinge_link_q_idx)"
   ]
  },
  {
   "cell_type": "code",
   "execution_count": 21,
   "metadata": {},
   "outputs": [
    {
     "name": "stdout",
     "output_type": "stream",
     "text": [
      "[[ 0.08253369  0.00290565  0.5362767 ]\n",
      " [ 0.32979733  0.23447308  0.533688  ]\n",
      " [ 0.5957482   0.44432437  0.5350934 ]\n",
      " [-0.14708921  0.24757078  0.48956725]\n",
      " [-0.3566649   0.50960165  0.44279844]\n",
      " [-0.16472992 -0.22866178  0.5388654 ]\n",
      " [-0.41612804 -0.45574212  0.54060435]\n",
      " [ 0.3121566  -0.24175948  0.5829861 ]\n",
      " [ 0.54896325 -0.47949743  0.62959903]]\n"
     ]
    }
   ],
   "source": [
    "\n",
    "print(pipeline_state.x.pos)"
   ]
  },
  {
   "cell_type": "code",
   "execution_count": 5,
   "metadata": {},
   "outputs": [
    {
     "ename": "KeyboardInterrupt",
     "evalue": "",
     "output_type": "error",
     "traceback": [
      "\u001b[0;31m---------------------------------------------------------------------------\u001b[0m",
      "\u001b[0;31mKeyboardInterrupt\u001b[0m                         Traceback (most recent call last)",
      "Cell \u001b[0;32mIn[5], line 11\u001b[0m\n\u001b[1;32m      9\u001b[0m   act_rng, rng \u001b[39m=\u001b[39m jax\u001b[39m.\u001b[39mrandom\u001b[39m.\u001b[39msplit(rng)\n\u001b[1;32m     10\u001b[0m   a \u001b[39m=\u001b[39m jax\u001b[39m.\u001b[39mrandom\u001b[39m.\u001b[39muniform(act_rng, shape\u001b[39m=\u001b[39m(\u001b[39m8\u001b[39m,), minval\u001b[39m=\u001b[39m\u001b[39m-\u001b[39m\u001b[39m1\u001b[39m,maxval\u001b[39m=\u001b[39m\u001b[39m1\u001b[39m)\n\u001b[0;32m---> 11\u001b[0m   state \u001b[39m=\u001b[39m jit_env_step(state, a)\n\u001b[1;32m     13\u001b[0m HTML(html\u001b[39m.\u001b[39mrender(env\u001b[39m.\u001b[39msys\u001b[39m.\u001b[39mreplace(dt\u001b[39m=\u001b[39menv\u001b[39m.\u001b[39mdt), rollout))\n",
      "    \u001b[0;31m[... skipping hidden 1 frame]\u001b[0m\n",
      "File \u001b[0;32m~/mambaforge/envs/msc-thesis-hpc/lib/python3.11/site-packages/jax/_src/pjit.py:249\u001b[0m, in \u001b[0;36m_cpp_pjit.<locals>.cache_miss\u001b[0;34m(*args, **kwargs)\u001b[0m\n\u001b[1;32m    247\u001b[0m \u001b[39m@api_boundary\u001b[39m\n\u001b[1;32m    248\u001b[0m \u001b[39mdef\u001b[39;00m \u001b[39mcache_miss\u001b[39m(\u001b[39m*\u001b[39margs, \u001b[39m*\u001b[39m\u001b[39m*\u001b[39mkwargs):\n\u001b[0;32m--> 249\u001b[0m   outs, out_flat, out_tree, args_flat \u001b[39m=\u001b[39m _python_pjit_helper(\n\u001b[1;32m    250\u001b[0m       fun, infer_params_fn, \u001b[39m*\u001b[39;49margs, \u001b[39m*\u001b[39;49m\u001b[39m*\u001b[39;49mkwargs)\n\u001b[1;32m    251\u001b[0m   executable \u001b[39m=\u001b[39m _read_most_recent_pjit_call_executable()\n\u001b[1;32m    252\u001b[0m   fastpath_data \u001b[39m=\u001b[39m _get_fastpath_data(executable, out_tree, args_flat, out_flat)\n",
      "File \u001b[0;32m~/mambaforge/envs/msc-thesis-hpc/lib/python3.11/site-packages/jax/_src/pjit.py:160\u001b[0m, in \u001b[0;36m_python_pjit_helper\u001b[0;34m(fun, infer_params_fn, *args, **kwargs)\u001b[0m\n\u001b[1;32m    158\u001b[0m   dispatch\u001b[39m.\u001b[39mcheck_arg(arg)\n\u001b[1;32m    159\u001b[0m \u001b[39mtry\u001b[39;00m:\n\u001b[0;32m--> 160\u001b[0m   out_flat \u001b[39m=\u001b[39m pjit_p\u001b[39m.\u001b[39;49mbind(\u001b[39m*\u001b[39;49margs_flat, \u001b[39m*\u001b[39;49m\u001b[39m*\u001b[39;49mparams)\n\u001b[1;32m    161\u001b[0m \u001b[39mexcept\u001b[39;00m pxla\u001b[39m.\u001b[39mDeviceAssignmentMismatchError \u001b[39mas\u001b[39;00m e:\n\u001b[1;32m    162\u001b[0m   fails, \u001b[39m=\u001b[39m e\u001b[39m.\u001b[39margs\n",
      "File \u001b[0;32m~/mambaforge/envs/msc-thesis-hpc/lib/python3.11/site-packages/jax/_src/core.py:2647\u001b[0m, in \u001b[0;36mAxisPrimitive.bind\u001b[0;34m(self, *args, **params)\u001b[0m\n\u001b[1;32m   2643\u001b[0m axis_main \u001b[39m=\u001b[39m \u001b[39mmax\u001b[39m((axis_frame(a)\u001b[39m.\u001b[39mmain_trace \u001b[39mfor\u001b[39;00m a \u001b[39min\u001b[39;00m used_axis_names(\u001b[39mself\u001b[39m, params)),\n\u001b[1;32m   2644\u001b[0m                 default\u001b[39m=\u001b[39m\u001b[39mNone\u001b[39;00m, key\u001b[39m=\u001b[39m\u001b[39mlambda\u001b[39;00m t: \u001b[39mgetattr\u001b[39m(t, \u001b[39m'\u001b[39m\u001b[39mlevel\u001b[39m\u001b[39m'\u001b[39m, \u001b[39m-\u001b[39m\u001b[39m1\u001b[39m))\n\u001b[1;32m   2645\u001b[0m top_trace \u001b[39m=\u001b[39m (top_trace \u001b[39mif\u001b[39;00m \u001b[39mnot\u001b[39;00m axis_main \u001b[39mor\u001b[39;00m axis_main\u001b[39m.\u001b[39mlevel \u001b[39m<\u001b[39m top_trace\u001b[39m.\u001b[39mlevel\n\u001b[1;32m   2646\u001b[0m              \u001b[39melse\u001b[39;00m axis_main\u001b[39m.\u001b[39mwith_cur_sublevel())\n\u001b[0;32m-> 2647\u001b[0m \u001b[39mreturn\u001b[39;00m \u001b[39mself\u001b[39;49m\u001b[39m.\u001b[39;49mbind_with_trace(top_trace, args, params)\n",
      "File \u001b[0;32m~/mambaforge/envs/msc-thesis-hpc/lib/python3.11/site-packages/jax/_src/core.py:383\u001b[0m, in \u001b[0;36mPrimitive.bind_with_trace\u001b[0;34m(self, trace, args, params)\u001b[0m\n\u001b[1;32m    382\u001b[0m \u001b[39mdef\u001b[39;00m \u001b[39mbind_with_trace\u001b[39m(\u001b[39mself\u001b[39m, trace, args, params):\n\u001b[0;32m--> 383\u001b[0m   out \u001b[39m=\u001b[39m trace\u001b[39m.\u001b[39;49mprocess_primitive(\u001b[39mself\u001b[39;49m, \u001b[39mmap\u001b[39;49m(trace\u001b[39m.\u001b[39;49mfull_raise, args), params)\n\u001b[1;32m    384\u001b[0m   \u001b[39mreturn\u001b[39;00m \u001b[39mmap\u001b[39m(full_lower, out) \u001b[39mif\u001b[39;00m \u001b[39mself\u001b[39m\u001b[39m.\u001b[39mmultiple_results \u001b[39melse\u001b[39;00m full_lower(out)\n",
      "File \u001b[0;32m~/mambaforge/envs/msc-thesis-hpc/lib/python3.11/site-packages/jax/_src/core.py:790\u001b[0m, in \u001b[0;36mEvalTrace.process_primitive\u001b[0;34m(self, primitive, tracers, params)\u001b[0m\n\u001b[1;32m    789\u001b[0m \u001b[39mdef\u001b[39;00m \u001b[39mprocess_primitive\u001b[39m(\u001b[39mself\u001b[39m, primitive, tracers, params):\n\u001b[0;32m--> 790\u001b[0m   \u001b[39mreturn\u001b[39;00m primitive\u001b[39m.\u001b[39;49mimpl(\u001b[39m*\u001b[39;49mtracers, \u001b[39m*\u001b[39;49m\u001b[39m*\u001b[39;49mparams)\n",
      "File \u001b[0;32m~/mambaforge/envs/msc-thesis-hpc/lib/python3.11/site-packages/jax/_src/pjit.py:1193\u001b[0m, in \u001b[0;36m_pjit_call_impl\u001b[0;34m(jaxpr, in_shardings, out_shardings, resource_env, donated_invars, name, keep_unused, inline, *args)\u001b[0m\n\u001b[1;32m   1190\u001b[0m donated_argnums \u001b[39m=\u001b[39m [i \u001b[39mfor\u001b[39;00m i, d \u001b[39min\u001b[39;00m \u001b[39menumerate\u001b[39m(donated_invars) \u001b[39mif\u001b[39;00m d]\n\u001b[1;32m   1191\u001b[0m has_explicit_sharding \u001b[39m=\u001b[39m _pjit_explicit_sharding(\n\u001b[1;32m   1192\u001b[0m     in_shardings, out_shardings, \u001b[39mNone\u001b[39;00m, \u001b[39mNone\u001b[39;00m)\n\u001b[0;32m-> 1193\u001b[0m \u001b[39mreturn\u001b[39;00m xc\u001b[39m.\u001b[39;49m_xla\u001b[39m.\u001b[39;49mpjit(name, f, call_impl_cache_miss, [], [], donated_argnums,\n\u001b[1;32m   1194\u001b[0m                     _get_cpp_global_cache(has_explicit_sharding))(\u001b[39m*\u001b[39;49margs)\n",
      "File \u001b[0;32m~/mambaforge/envs/msc-thesis-hpc/lib/python3.11/site-packages/jax/_src/pjit.py:1177\u001b[0m, in \u001b[0;36m_pjit_call_impl.<locals>.call_impl_cache_miss\u001b[0;34m(*args_, **kwargs_)\u001b[0m\n\u001b[1;32m   1176\u001b[0m \u001b[39mdef\u001b[39;00m \u001b[39mcall_impl_cache_miss\u001b[39m(\u001b[39m*\u001b[39margs_, \u001b[39m*\u001b[39m\u001b[39m*\u001b[39mkwargs_):\n\u001b[0;32m-> 1177\u001b[0m   out_flat, compiled \u001b[39m=\u001b[39m _pjit_call_impl_python(\n\u001b[1;32m   1178\u001b[0m       \u001b[39m*\u001b[39;49margs, jaxpr\u001b[39m=\u001b[39;49mjaxpr, in_shardings\u001b[39m=\u001b[39;49min_shardings,\n\u001b[1;32m   1179\u001b[0m       out_shardings\u001b[39m=\u001b[39;49mout_shardings, resource_env\u001b[39m=\u001b[39;49mresource_env,\n\u001b[1;32m   1180\u001b[0m       donated_invars\u001b[39m=\u001b[39;49mdonated_invars, name\u001b[39m=\u001b[39;49mname, keep_unused\u001b[39m=\u001b[39;49mkeep_unused,\n\u001b[1;32m   1181\u001b[0m       inline\u001b[39m=\u001b[39;49minline)\n\u001b[1;32m   1182\u001b[0m   fastpath_data \u001b[39m=\u001b[39m _get_fastpath_data(\n\u001b[1;32m   1183\u001b[0m       compiled, tree_structure(out_flat), args, out_flat)\n\u001b[1;32m   1184\u001b[0m   \u001b[39mreturn\u001b[39;00m out_flat, fastpath_data\n",
      "File \u001b[0;32m~/mambaforge/envs/msc-thesis-hpc/lib/python3.11/site-packages/jax/_src/pjit.py:1113\u001b[0m, in \u001b[0;36m_pjit_call_impl_python\u001b[0;34m(jaxpr, in_shardings, out_shardings, resource_env, donated_invars, name, keep_unused, inline, *args)\u001b[0m\n\u001b[1;32m   1104\u001b[0m \u001b[39mglobal\u001b[39;00m _most_recent_pjit_call_executable\n\u001b[1;32m   1106\u001b[0m in_shardings \u001b[39m=\u001b[39m _resolve_in_shardings(\n\u001b[1;32m   1107\u001b[0m     args, in_shardings, out_shardings,\n\u001b[1;32m   1108\u001b[0m     resource_env\u001b[39m.\u001b[39mphysical_mesh \u001b[39mif\u001b[39;00m resource_env \u001b[39mis\u001b[39;00m \u001b[39mnot\u001b[39;00m \u001b[39mNone\u001b[39;00m \u001b[39melse\u001b[39;00m \u001b[39mNone\u001b[39;00m)\n\u001b[1;32m   1110\u001b[0m compiled \u001b[39m=\u001b[39m _pjit_lower(\n\u001b[1;32m   1111\u001b[0m     jaxpr, in_shardings, out_shardings, resource_env,\n\u001b[1;32m   1112\u001b[0m     donated_invars, name, keep_unused, inline,\n\u001b[0;32m-> 1113\u001b[0m     always_lower\u001b[39m=\u001b[39;49m\u001b[39mFalse\u001b[39;49;00m, lowering_platform\u001b[39m=\u001b[39;49m\u001b[39mNone\u001b[39;49;00m)\u001b[39m.\u001b[39;49mcompile()\n\u001b[1;32m   1114\u001b[0m _most_recent_pjit_call_executable\u001b[39m.\u001b[39mvalue \u001b[39m=\u001b[39m compiled\n\u001b[1;32m   1115\u001b[0m \u001b[39m# This check is expensive so only do it if enable_checks is on.\u001b[39;00m\n",
      "File \u001b[0;32m~/mambaforge/envs/msc-thesis-hpc/lib/python3.11/site-packages/jax/_src/interpreters/pxla.py:2319\u001b[0m, in \u001b[0;36mMeshComputation.compile\u001b[0;34m(self, compiler_options)\u001b[0m\n\u001b[1;32m   2316\u001b[0m   executable \u001b[39m=\u001b[39m MeshExecutable\u001b[39m.\u001b[39mfrom_trivial_jaxpr(\n\u001b[1;32m   2317\u001b[0m       \u001b[39m*\u001b[39m\u001b[39m*\u001b[39m\u001b[39mself\u001b[39m\u001b[39m.\u001b[39mcompile_args)\n\u001b[1;32m   2318\u001b[0m \u001b[39melse\u001b[39;00m:\n\u001b[0;32m-> 2319\u001b[0m   executable \u001b[39m=\u001b[39m UnloadedMeshExecutable\u001b[39m.\u001b[39;49mfrom_hlo(\n\u001b[1;32m   2320\u001b[0m       \u001b[39mself\u001b[39;49m\u001b[39m.\u001b[39;49m_name,\n\u001b[1;32m   2321\u001b[0m       \u001b[39mself\u001b[39;49m\u001b[39m.\u001b[39;49m_hlo,\n\u001b[1;32m   2322\u001b[0m       \u001b[39m*\u001b[39;49m\u001b[39m*\u001b[39;49m\u001b[39mself\u001b[39;49m\u001b[39m.\u001b[39;49mcompile_args,\n\u001b[1;32m   2323\u001b[0m       compiler_options\u001b[39m=\u001b[39;49mcompiler_options)\n\u001b[1;32m   2324\u001b[0m \u001b[39mif\u001b[39;00m compiler_options \u001b[39mis\u001b[39;00m \u001b[39mNone\u001b[39;00m:\n\u001b[1;32m   2325\u001b[0m   \u001b[39mself\u001b[39m\u001b[39m.\u001b[39m_executable \u001b[39m=\u001b[39m executable\n",
      "File \u001b[0;32m~/mambaforge/envs/msc-thesis-hpc/lib/python3.11/site-packages/jax/_src/interpreters/pxla.py:2638\u001b[0m, in \u001b[0;36mUnloadedMeshExecutable.from_hlo\u001b[0;34m(***failed resolving arguments***)\u001b[0m\n\u001b[1;32m   2635\u001b[0m       mesh \u001b[39m=\u001b[39m i\u001b[39m.\u001b[39mmesh  \u001b[39m# type: ignore\u001b[39;00m\n\u001b[1;32m   2636\u001b[0m       \u001b[39mbreak\u001b[39;00m\n\u001b[0;32m-> 2638\u001b[0m xla_executable, compile_options \u001b[39m=\u001b[39m _cached_compilation(\n\u001b[1;32m   2639\u001b[0m     hlo, name, mesh, spmd_lowering,\n\u001b[1;32m   2640\u001b[0m     tuple_args, auto_spmd_lowering, allow_prop_to_outputs,\n\u001b[1;32m   2641\u001b[0m     \u001b[39mtuple\u001b[39;49m(host_callbacks), backend, da, pmap_nreps,\n\u001b[1;32m   2642\u001b[0m     compiler_options_keys, compiler_options_values)\n\u001b[1;32m   2644\u001b[0m \u001b[39mif\u001b[39;00m \u001b[39mhasattr\u001b[39m(backend, \u001b[39m\"\u001b[39m\u001b[39mcompile_replicated\u001b[39m\u001b[39m\"\u001b[39m):\n\u001b[1;32m   2645\u001b[0m   semantics_in_shardings \u001b[39m=\u001b[39m SemanticallyEqualShardings(in_shardings)  \u001b[39m# type: ignore\u001b[39;00m\n",
      "File \u001b[0;32m~/mambaforge/envs/msc-thesis-hpc/lib/python3.11/site-packages/jax/_src/interpreters/pxla.py:2551\u001b[0m, in \u001b[0;36m_cached_compilation\u001b[0;34m(computation, name, mesh, spmd_lowering, tuple_args, auto_spmd_lowering, _allow_propagation_to_outputs, host_callbacks, backend, da, pmap_nreps, compiler_options_keys, compiler_options_values)\u001b[0m\n\u001b[1;32m   2546\u001b[0m   \u001b[39mreturn\u001b[39;00m \u001b[39mNone\u001b[39;00m, compile_options\n\u001b[1;32m   2548\u001b[0m \u001b[39mwith\u001b[39;00m dispatch\u001b[39m.\u001b[39mlog_elapsed_time(\n\u001b[1;32m   2549\u001b[0m     \u001b[39m\"\u001b[39m\u001b[39mFinished XLA compilation of \u001b[39m\u001b[39m{fun_name}\u001b[39;00m\u001b[39m in \u001b[39m\u001b[39m{elapsed_time}\u001b[39;00m\u001b[39m sec\u001b[39m\u001b[39m\"\u001b[39m,\n\u001b[1;32m   2550\u001b[0m     fun_name\u001b[39m=\u001b[39mname, event\u001b[39m=\u001b[39mdispatch\u001b[39m.\u001b[39mBACKEND_COMPILE_EVENT):\n\u001b[0;32m-> 2551\u001b[0m   xla_executable \u001b[39m=\u001b[39m dispatch\u001b[39m.\u001b[39;49mcompile_or_get_cached(\n\u001b[1;32m   2552\u001b[0m       backend, computation, dev, compile_options, host_callbacks)\n\u001b[1;32m   2553\u001b[0m \u001b[39mreturn\u001b[39;00m xla_executable, compile_options\n",
      "File \u001b[0;32m~/mambaforge/envs/msc-thesis-hpc/lib/python3.11/site-packages/jax/_src/dispatch.py:497\u001b[0m, in \u001b[0;36mcompile_or_get_cached\u001b[0;34m(backend, computation, devices, compile_options, host_callbacks)\u001b[0m\n\u001b[1;32m    493\u001b[0m use_compilation_cache \u001b[39m=\u001b[39m (compilation_cache\u001b[39m.\u001b[39mis_initialized() \u001b[39mand\u001b[39;00m\n\u001b[1;32m    494\u001b[0m                          backend\u001b[39m.\u001b[39mplatform \u001b[39min\u001b[39;00m supported_platforms)\n\u001b[1;32m    496\u001b[0m \u001b[39mif\u001b[39;00m \u001b[39mnot\u001b[39;00m use_compilation_cache:\n\u001b[0;32m--> 497\u001b[0m   \u001b[39mreturn\u001b[39;00m backend_compile(backend, computation, compile_options,\n\u001b[1;32m    498\u001b[0m                          host_callbacks)\n\u001b[1;32m    500\u001b[0m cache_key \u001b[39m=\u001b[39m compilation_cache\u001b[39m.\u001b[39mget_cache_key(\n\u001b[1;32m    501\u001b[0m     computation, devices, compile_options, backend)\n\u001b[1;32m    503\u001b[0m cached_executable \u001b[39m=\u001b[39m _cache_read(module_name, cache_key, compile_options,\n\u001b[1;32m    504\u001b[0m                                 backend)\n",
      "File \u001b[0;32m~/mambaforge/envs/msc-thesis-hpc/lib/python3.11/site-packages/jax/_src/profiler.py:314\u001b[0m, in \u001b[0;36mannotate_function.<locals>.wrapper\u001b[0;34m(*args, **kwargs)\u001b[0m\n\u001b[1;32m    311\u001b[0m \u001b[39m@wraps\u001b[39m(func)\n\u001b[1;32m    312\u001b[0m \u001b[39mdef\u001b[39;00m \u001b[39mwrapper\u001b[39m(\u001b[39m*\u001b[39margs, \u001b[39m*\u001b[39m\u001b[39m*\u001b[39mkwargs):\n\u001b[1;32m    313\u001b[0m   \u001b[39mwith\u001b[39;00m TraceAnnotation(name, \u001b[39m*\u001b[39m\u001b[39m*\u001b[39mdecorator_kwargs):\n\u001b[0;32m--> 314\u001b[0m     \u001b[39mreturn\u001b[39;00m func(\u001b[39m*\u001b[39;49margs, \u001b[39m*\u001b[39;49m\u001b[39m*\u001b[39;49mkwargs)\n\u001b[1;32m    315\u001b[0m   \u001b[39mreturn\u001b[39;00m wrapper\n",
      "File \u001b[0;32m~/mambaforge/envs/msc-thesis-hpc/lib/python3.11/site-packages/jax/_src/dispatch.py:465\u001b[0m, in \u001b[0;36mbackend_compile\u001b[0;34m(backend, module, options, host_callbacks)\u001b[0m\n\u001b[1;32m    460\u001b[0m   \u001b[39mreturn\u001b[39;00m backend\u001b[39m.\u001b[39mcompile(built_c, compile_options\u001b[39m=\u001b[39moptions,\n\u001b[1;32m    461\u001b[0m                          host_callbacks\u001b[39m=\u001b[39mhost_callbacks)\n\u001b[1;32m    462\u001b[0m \u001b[39m# Some backends don't have `host_callbacks` option yet\u001b[39;00m\n\u001b[1;32m    463\u001b[0m \u001b[39m# TODO(sharadmv): remove this fallback when all backends allow `compile`\u001b[39;00m\n\u001b[1;32m    464\u001b[0m \u001b[39m# to take in `host_callbacks`\u001b[39;00m\n\u001b[0;32m--> 465\u001b[0m \u001b[39mreturn\u001b[39;00m backend\u001b[39m.\u001b[39;49mcompile(built_c, compile_options\u001b[39m=\u001b[39;49moptions)\n",
      "\u001b[0;31mKeyboardInterrupt\u001b[0m: "
     ]
    }
   ],
   "source": [
    "\n",
    "\n",
    "jit_env_reset = jax.jit(env.reset)\n",
    "jit_env_step = jax.jit(env.step)\n",
    "rollout = []\n",
    "\n",
    "rng = jax.random.PRNGKey(seed=1)\n",
    "state = jit_env_reset(rng=rng)\n",
    "for _ in range(100):\n",
    "  rollout.append(state.pipeline_state)\n",
    "  act_rng, rng = jax.random.split(rng)\n",
    "  a = jax.random.uniform(act_rng, shape=(8,), minval=-1,maxval=1)\n",
    "  state = jit_env_step(state, a)\n",
    "\n",
    "HTML(html.render(env.sys.replace(dt=env.dt), rollout))\n",
    "\n"
   ]
  },
  {
   "cell_type": "code",
   "execution_count": null,
   "metadata": {},
   "outputs": [
    {
     "name": "stdout",
     "output_type": "stream",
     "text": [
      "[ 1.8702186  -1.0460168   0.25144252  0.19435003  0.7827993  -0.5731185\n",
      " -0.1448742   0.49370173  0.509909    0.5419925  -0.7711398  -0.00300725\n",
      " -0.640114    0.03325571  0.69460624]\n",
      "[ 0.29746193 -0.5805117   0.09030087 -0.1782912  -2.192063   -1.2315791\n",
      "  1.9765209   0.38477463 -0.52946275 -2.2101529  -1.4984249  10.381127\n",
      " -1.2786419  -9.661179  ]\n",
      "None\n",
      "[ 7  8  9 10 11 12 13 14]\n"
     ]
    }
   ],
   "source": []
  }
 ],
 "metadata": {
  "kernelspec": {
   "display_name": "Python 3",
   "language": "python",
   "name": "python3"
  },
  "language_info": {
   "codemirror_mode": {
    "name": "ipython",
    "version": 3
   },
   "file_extension": ".py",
   "mimetype": "text/x-python",
   "name": "python",
   "nbconvert_exporter": "python",
   "pygments_lexer": "ipython3",
   "version": "3.11.3"
  },
  "orig_nbformat": 4
 },
 "nbformat": 4,
 "nbformat_minor": 2
}
